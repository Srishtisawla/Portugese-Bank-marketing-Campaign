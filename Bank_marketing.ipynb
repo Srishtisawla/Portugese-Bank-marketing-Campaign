{
 "cells": [
  {
   "cell_type": "code",
   "execution_count": 58,
   "metadata": {
    "collapsed": true
   },
   "outputs": [],
   "source": [
    "path = 'bank-additional-full.csv'\n",
    "path1 = 'bank-additional.csv'"
   ]
  },
  {
   "cell_type": "code",
   "execution_count": 59,
   "metadata": {
    "collapsed": true
   },
   "outputs": [],
   "source": [
    "import pandas as pd\n",
    "import numpy as np\n",
    "import seaborn as sns\n",
    "from matplotlib import pyplot as plt\n",
    "from sklearn import model_selection\n",
    "from sklearn.tree import DecisionTreeClassifier\n",
    "from sklearn.ensemble import BaggingClassifier\n",
    "from sklearn.preprocessing import LabelEncoder, OneHotEncoder\n",
    "from sklearn.linear_model import LogisticRegression,LogisticRegressionCV\n",
    "from sklearn.metrics import confusion_matrix,f1_score,roc_curve,auc,precision_score,recall_score\n",
    "from sklearn.naive_bayes import GaussianNB\n",
    "from sklearn.svm import SVC\n",
    "from sklearn.decomposition import PCA\n",
    "import scipy.stats as sp\n",
    "import warnings\n",
    "warnings.filterwarnings(\"ignore\")"
   ]
  },
  {
   "cell_type": "code",
   "execution_count": 60,
   "metadata": {
    "collapsed": true
   },
   "outputs": [],
   "source": [
    "import numpy as np\n",
    "import pandas as pd\n",
    "from sklearn.tree import DecisionTreeClassifier\n",
    "from sklearn.ensemble import BaggingClassifier\n",
    "from sklearn.preprocessing import LabelEncoder, OneHotEncoder\n",
    "from sklearn.model_selection import train_test_split, GridSearchCV\n",
    "from sklearn.metrics import roc_auc_score\n",
    "from sklearn.ensemble import RandomForestClassifier\n",
    "from sklearn.linear_model import LogisticRegression\n",
    "from imblearn.over_sampling import SMOTE\n",
    "from sklearn.decomposition import PCA\n",
    "from sklearn.svm import SVC\n",
    "from sklearn.feature_selection import RFE"
   ]
  },
  {
   "cell_type": "code",
   "execution_count": 61,
   "metadata": {},
   "outputs": [
    {
     "data": {
      "text/html": [
       "<div>\n",
       "<style>\n",
       "    .dataframe thead tr:only-child th {\n",
       "        text-align: right;\n",
       "    }\n",
       "\n",
       "    .dataframe thead th {\n",
       "        text-align: left;\n",
       "    }\n",
       "\n",
       "    .dataframe tbody tr th {\n",
       "        vertical-align: top;\n",
       "    }\n",
       "</style>\n",
       "<table border=\"1\" class=\"dataframe\">\n",
       "  <thead>\n",
       "    <tr style=\"text-align: right;\">\n",
       "      <th></th>\n",
       "      <th>age</th>\n",
       "      <th>job</th>\n",
       "      <th>marital</th>\n",
       "      <th>education</th>\n",
       "      <th>default</th>\n",
       "      <th>housing</th>\n",
       "      <th>loan</th>\n",
       "      <th>contact</th>\n",
       "      <th>month</th>\n",
       "      <th>day_of_week</th>\n",
       "      <th>...</th>\n",
       "      <th>campaign</th>\n",
       "      <th>pdays</th>\n",
       "      <th>previous</th>\n",
       "      <th>poutcome</th>\n",
       "      <th>emp.var.rate</th>\n",
       "      <th>cons.price.idx</th>\n",
       "      <th>cons.conf.idx</th>\n",
       "      <th>euribor3m</th>\n",
       "      <th>nr.employed</th>\n",
       "      <th>y</th>\n",
       "    </tr>\n",
       "  </thead>\n",
       "  <tbody>\n",
       "    <tr>\n",
       "      <th>0</th>\n",
       "      <td>56</td>\n",
       "      <td>housemaid</td>\n",
       "      <td>married</td>\n",
       "      <td>basic.4y</td>\n",
       "      <td>no</td>\n",
       "      <td>no</td>\n",
       "      <td>no</td>\n",
       "      <td>telephone</td>\n",
       "      <td>may</td>\n",
       "      <td>mon</td>\n",
       "      <td>...</td>\n",
       "      <td>1</td>\n",
       "      <td>999</td>\n",
       "      <td>0</td>\n",
       "      <td>nonexistent</td>\n",
       "      <td>1.1</td>\n",
       "      <td>93.994</td>\n",
       "      <td>1324.96</td>\n",
       "      <td>4.857</td>\n",
       "      <td>5191.0</td>\n",
       "      <td>no</td>\n",
       "    </tr>\n",
       "    <tr>\n",
       "      <th>1</th>\n",
       "      <td>57</td>\n",
       "      <td>services</td>\n",
       "      <td>married</td>\n",
       "      <td>high.school</td>\n",
       "      <td>unknown</td>\n",
       "      <td>no</td>\n",
       "      <td>no</td>\n",
       "      <td>telephone</td>\n",
       "      <td>may</td>\n",
       "      <td>mon</td>\n",
       "      <td>...</td>\n",
       "      <td>1</td>\n",
       "      <td>999</td>\n",
       "      <td>0</td>\n",
       "      <td>nonexistent</td>\n",
       "      <td>1.1</td>\n",
       "      <td>93.994</td>\n",
       "      <td>1324.96</td>\n",
       "      <td>4.857</td>\n",
       "      <td>5191.0</td>\n",
       "      <td>no</td>\n",
       "    </tr>\n",
       "    <tr>\n",
       "      <th>2</th>\n",
       "      <td>37</td>\n",
       "      <td>services</td>\n",
       "      <td>married</td>\n",
       "      <td>high.school</td>\n",
       "      <td>no</td>\n",
       "      <td>yes</td>\n",
       "      <td>no</td>\n",
       "      <td>telephone</td>\n",
       "      <td>may</td>\n",
       "      <td>mon</td>\n",
       "      <td>...</td>\n",
       "      <td>1</td>\n",
       "      <td>999</td>\n",
       "      <td>0</td>\n",
       "      <td>nonexistent</td>\n",
       "      <td>1.1</td>\n",
       "      <td>93.994</td>\n",
       "      <td>1324.96</td>\n",
       "      <td>4.857</td>\n",
       "      <td>5191.0</td>\n",
       "      <td>no</td>\n",
       "    </tr>\n",
       "    <tr>\n",
       "      <th>3</th>\n",
       "      <td>40</td>\n",
       "      <td>admin.</td>\n",
       "      <td>married</td>\n",
       "      <td>basic.6y</td>\n",
       "      <td>no</td>\n",
       "      <td>no</td>\n",
       "      <td>no</td>\n",
       "      <td>telephone</td>\n",
       "      <td>may</td>\n",
       "      <td>mon</td>\n",
       "      <td>...</td>\n",
       "      <td>1</td>\n",
       "      <td>999</td>\n",
       "      <td>0</td>\n",
       "      <td>nonexistent</td>\n",
       "      <td>1.1</td>\n",
       "      <td>93.994</td>\n",
       "      <td>1324.96</td>\n",
       "      <td>4.857</td>\n",
       "      <td>5191.0</td>\n",
       "      <td>no</td>\n",
       "    </tr>\n",
       "    <tr>\n",
       "      <th>4</th>\n",
       "      <td>56</td>\n",
       "      <td>services</td>\n",
       "      <td>married</td>\n",
       "      <td>high.school</td>\n",
       "      <td>no</td>\n",
       "      <td>no</td>\n",
       "      <td>yes</td>\n",
       "      <td>telephone</td>\n",
       "      <td>may</td>\n",
       "      <td>mon</td>\n",
       "      <td>...</td>\n",
       "      <td>1</td>\n",
       "      <td>999</td>\n",
       "      <td>0</td>\n",
       "      <td>nonexistent</td>\n",
       "      <td>1.1</td>\n",
       "      <td>93.994</td>\n",
       "      <td>1324.96</td>\n",
       "      <td>4.857</td>\n",
       "      <td>5191.0</td>\n",
       "      <td>no</td>\n",
       "    </tr>\n",
       "  </tbody>\n",
       "</table>\n",
       "<p>5 rows × 21 columns</p>\n",
       "</div>"
      ],
      "text/plain": [
       "   age        job  marital    education  default housing loan    contact  \\\n",
       "0   56  housemaid  married     basic.4y       no      no   no  telephone   \n",
       "1   57   services  married  high.school  unknown      no   no  telephone   \n",
       "2   37   services  married  high.school       no     yes   no  telephone   \n",
       "3   40     admin.  married     basic.6y       no      no   no  telephone   \n",
       "4   56   services  married  high.school       no      no  yes  telephone   \n",
       "\n",
       "  month day_of_week ...  campaign  pdays  previous     poutcome emp.var.rate  \\\n",
       "0   may         mon ...         1    999         0  nonexistent          1.1   \n",
       "1   may         mon ...         1    999         0  nonexistent          1.1   \n",
       "2   may         mon ...         1    999         0  nonexistent          1.1   \n",
       "3   may         mon ...         1    999         0  nonexistent          1.1   \n",
       "4   may         mon ...         1    999         0  nonexistent          1.1   \n",
       "\n",
       "   cons.price.idx  cons.conf.idx  euribor3m  nr.employed   y  \n",
       "0          93.994        1324.96      4.857       5191.0  no  \n",
       "1          93.994        1324.96      4.857       5191.0  no  \n",
       "2          93.994        1324.96      4.857       5191.0  no  \n",
       "3          93.994        1324.96      4.857       5191.0  no  \n",
       "4          93.994        1324.96      4.857       5191.0  no  \n",
       "\n",
       "[5 rows x 21 columns]"
      ]
     },
     "execution_count": 61,
     "metadata": {},
     "output_type": "execute_result"
    }
   ],
   "source": [
    "data = pd.read_csv(path,sep=';')\n",
    "data1 = pd.read_csv(path1,sep=';')\n",
    "data.head()\n",
    "data['cons.conf.idx']=data['cons.conf.idx']**2\n",
    "data.head()\n",
    "# data[data.isnull()]"
   ]
  },
  {
   "cell_type": "code",
   "execution_count": 63,
   "metadata": {
    "collapsed": true
   },
   "outputs": [],
   "source": [
    "X_test = data1.iloc[:,:-1]\n",
    "y_test = data1.iloc[:,-1]\n",
    "X_train,X_validation = model_selection.train_test_split(data,test_size=0.2,random_state=0)\n",
    "X_train = X_train[X_train['age']<62] \n",
    "\n",
    "\n",
    "X_train1 = X_train.iloc[:,:-1]\n",
    "y_train = X_train.iloc[:,-1]\n",
    "X_validation1 = X_validation.iloc[:,:-1]\n",
    "y_validation = X_validation.iloc[:,-1]\n",
    "\n",
    "X_train = X_train1\n",
    "X_validation = X_validation1\n",
    "\n",
    "y_train[y_train == 'no']=0\n",
    "y_validation[y_validation == 'no']=0\n",
    "y_test[y_test == 'no']=0\n",
    "\n",
    "y_train[y_train=='yes']=1\n",
    "y_validation[y_validation=='yes']=1\n",
    "y_test[y_test=='yes']=1\n",
    "\n",
    "y_train=y_train.astype('int')\n",
    "y_validation=y_validation.astype('int')\n",
    "y_test=y_test.astype('int')"
   ]
  },
  {
   "cell_type": "markdown",
   "metadata": {},
   "source": [
    "# Dealing with Missing values"
   ]
  },
  {
   "cell_type": "code",
   "execution_count": 64,
   "metadata": {
    "collapsed": true
   },
   "outputs": [],
   "source": [
    "#imputing education \n",
    "edu = X_train['education'].copy()\n",
    "edu[edu!=\"unknown\"]='known'"
   ]
  },
  {
   "cell_type": "code",
   "execution_count": 7,
   "metadata": {},
   "outputs": [
    {
     "name": "stdout",
     "output_type": "stream",
     "text": [
      "y              0     1\n",
      "education             \n",
      "known      27712  3260\n",
      "unknown     1143   157\n"
     ]
    }
   ],
   "source": [
    "freqtab = pd.crosstab(edu,y_train)\n",
    "print freqtab"
   ]
  },
  {
   "cell_type": "code",
   "execution_count": 8,
   "metadata": {},
   "outputs": [
    {
     "name": "stdout",
     "output_type": "stream",
     "text": [
      "('ChiSquare test statistic: ', 3.0096965248450922)\n",
      "('p-value: ', 0.082767785682790168)\n"
     ]
    }
   ],
   "source": [
    "\n",
    "chi2,pval,dof,expected = sp.chi2_contingency(freqtab)\n",
    "print(\"ChiSquare test statistic: \",chi2)\n",
    "print(\"p-value: \",pval)"
   ]
  },
  {
   "cell_type": "markdown",
   "metadata": {
    "collapsed": true
   },
   "source": [
    "# Method 1 to deal with missing values\n",
    "\n",
    "the p-value of the result is less\n",
    "than 0.01. In this case, the unknown status is obviously related to our target response and\n",
    "we cannot simply ignore those missing values. Therefore, we use the rest known data to\n",
    "impute the missing terms"
   ]
  },
  {
   "cell_type": "code",
   "execution_count": 65,
   "metadata": {
    "collapsed": true
   },
   "outputs": [],
   "source": [
    "X_train['education'][X_train['education']==\"unknown\"]=X_train['education'].mode()[0]"
   ]
  },
  {
   "cell_type": "code",
   "execution_count": 10,
   "metadata": {},
   "outputs": [
    {
     "name": "stdout",
     "output_type": "stream",
     "text": [
      "y            0     1\n",
      "default             \n",
      "known    22405  3089\n",
      "unknown   6450   328\n",
      "('p-value: ', 6.1089870802688172e-67)\n"
     ]
    }
   ],
   "source": [
    "#imputing default\n",
    "default = X_train['default'].copy()\n",
    "default[default!=\"unknown\"]='known'\n",
    "freqtab5 = pd.crosstab(default,y_train)\n",
    "print freqtab5\n",
    "chi2,pval,dof,expected = sp.chi2_contingency(freqtab5)\n",
    "print(\"p-value: \",pval)"
   ]
  },
  {
   "cell_type": "markdown",
   "metadata": {},
   "source": [
    "# Method 2 to deal with missing values\n",
    "the p-value of the result is very less than 0.01.the unknown status is obviously related to our target response \n",
    "In this case, we cannot make imputation because of the rare population of “yes” response. Therefore, we decided to keep the “unknown” status as a new category and use it in our algorithm."
   ]
  },
  {
   "cell_type": "code",
   "execution_count": 11,
   "metadata": {},
   "outputs": [
    {
     "name": "stdout",
     "output_type": "stream",
     "text": [
      "y            0     1\n",
      "loan                \n",
      "known    28162  3345\n",
      "unknown    693    72\n",
      "('ChiSquare test statistic: ', 1.0216342656310122)\n",
      "('p-value: ', 0.31213167018492533)\n"
     ]
    }
   ],
   "source": [
    "#imputing loan\n",
    "loan = X_train['loan'].copy()\n",
    "loan[loan!=\"unknown\"]='known'\n",
    "freqtab1 = pd.crosstab(loan,y_train)\n",
    "print freqtab1\n",
    "chi2,pval,dof,expected = sp.chi2_contingency(freqtab1)\n",
    "print(\"ChiSquare test statistic: \",chi2)\n",
    "print(\"p-value: \",pval)"
   ]
  },
  {
   "cell_type": "code",
   "execution_count": 12,
   "metadata": {},
   "outputs": [
    {
     "name": "stdout",
     "output_type": "stream",
     "text": [
      "y            0     1\n",
      "housing             \n",
      "known    28162  3345\n",
      "unknown    693    72\n",
      "('p-value: ', 0.31213167018492533)\n"
     ]
    }
   ],
   "source": [
    "#imputing housing\n",
    "housing = X_train['housing'].copy()\n",
    "housing[housing!=\"unknown\"]='known'\n",
    "freqtab2 = pd.crosstab(housing,y_train)\n",
    "print freqtab2\n",
    "chi2,pval,dof,expected = sp.chi2_contingency(freqtab2)\n",
    "print(\"p-value: \",pval)"
   ]
  },
  {
   "cell_type": "code",
   "execution_count": 13,
   "metadata": {},
   "outputs": [
    {
     "name": "stdout",
     "output_type": "stream",
     "text": [
      "y            0     1\n",
      "marital             \n",
      "known    28802  3408\n",
      "unknown     53     9\n",
      "('p-value: ', 0.42393832724735481)\n"
     ]
    }
   ],
   "source": [
    "#imputing marital\n",
    "marital = X_train['marital'].copy()\n",
    "marital[marital!=\"unknown\"]='known'\n",
    "freqtab3 = pd.crosstab(marital,y_train)\n",
    "print freqtab3\n",
    "chi2,pval,dof,expected = sp.chi2_contingency(freqtab3)\n",
    "print(\"p-value: \",pval)"
   ]
  },
  {
   "cell_type": "code",
   "execution_count": 14,
   "metadata": {
    "scrolled": true
   },
   "outputs": [
    {
     "name": "stdout",
     "output_type": "stream",
     "text": [
      "y            0     1\n",
      "job                 \n",
      "known    28626  3396\n",
      "unknown    229    21\n",
      "('p-value: ', 0.30506073790198113)\n"
     ]
    }
   ],
   "source": [
    "#imputing job\n",
    "job = X_train['job'].copy()\n",
    "job[job!=\"unknown\"]='known'\n",
    "freqtab4 = pd.crosstab(job,y_train)\n",
    "print freqtab4\n",
    "chi2,pval,dof,expected = sp.chi2_contingency(freqtab4)\n",
    "print(\"p-value: \",pval)"
   ]
  },
  {
   "cell_type": "markdown",
   "metadata": {},
   "source": [
    "# Method 3 to deal with missing values\n",
    "Except education and default all other p values are very high than 0.05 \n",
    "thus do not show a strong relationship between the\n",
    "known/unknown status and target response, \n",
    "so for all other categorical variables we impute mode which will not\n",
    "affect our model due to weak relationship"
   ]
  },
  {
   "cell_type": "code",
   "execution_count": 66,
   "metadata": {
    "collapsed": true
   },
   "outputs": [],
   "source": [
    "X_train['housing'][X_train['housing']==\"unknown\"]=X_train['housing'].mode()[0]\n",
    "X_train['loan'][X_train['loan']==\"unknown\"]=X_train['loan'].mode()[0]\n",
    "X_train['marital'][X_train['marital']==\"unknown\"]=X_train['marital'].mode()[0]\n",
    "X_train['job'][X_train['job']==\"unknown\"]=X_train['job'].mode()[0]"
   ]
  },
  {
   "cell_type": "code",
   "execution_count": 67,
   "metadata": {
    "collapsed": true
   },
   "outputs": [],
   "source": [
    "#Imputing same values in validation\n",
    "X_validation['marital'][X_validation['marital']==\"unknown\"]=X_train['marital'].mode()[0]\n",
    "X_validation['job'][X_validation['job']==\"unknown\"]=X_train['job'].mode()[0]\n",
    "X_validation['education'][X_validation['education']==\"unknown\"]=X_train['education'].mode()[0]\n",
    "X_validation['housing'][X_validation['housing']==\"unknown\"]=X_train['housing'].mode()[0]\n",
    "X_validation['loan'][X_validation['loan']==\"unknown\"]=X_train['loan'].mode()[0]"
   ]
  },
  {
   "cell_type": "code",
   "execution_count": 68,
   "metadata": {
    "collapsed": true
   },
   "outputs": [],
   "source": [
    "#Imputing same values in test\n",
    "X_test['marital'][X_test['marital']==\"unknown\"]=X_train['marital'].mode()[0]\n",
    "X_test['job'][X_test['job']==\"unknown\"]=X_train['job'].mode()[0]\n",
    "X_test['education'][X_test['education']==\"unknown\"]=X_train['education'].mode()[0]\n",
    "X_test['housing'][X_test['housing']==\"unknown\"]=X_train['housing'].mode()[0]\n",
    "X_test['loan'][X_test['loan']==\"unknown\"]=X_train['loan'].mode()[0]"
   ]
  },
  {
   "cell_type": "markdown",
   "metadata": {},
   "source": [
    "# Feature Engineering"
   ]
  },
  {
   "cell_type": "code",
   "execution_count": 18,
   "metadata": {},
   "outputs": [
    {
     "data": {
      "text/plain": [
       "Index([u'age', u'job', u'marital', u'education', u'default', u'housing',\n",
       "       u'loan', u'contact', u'month', u'day_of_week', u'duration', u'campaign',\n",
       "       u'pdays', u'previous', u'poutcome', u'emp.var.rate', u'cons.price.idx',\n",
       "       u'cons.conf.idx', u'euribor3m', u'nr.employed'],\n",
       "      dtype='object')"
      ]
     },
     "execution_count": 18,
     "metadata": {},
     "output_type": "execute_result"
    }
   ],
   "source": [
    "X_train.columns"
   ]
  },
  {
   "cell_type": "code",
   "execution_count": 69,
   "metadata": {
    "collapsed": true
   },
   "outputs": [],
   "source": [
    "#education\n",
    "def encode_edu(data):\n",
    "    data['education'][data['education']=='illiterate']=0\n",
    "    data['education'][data['education']=='basic.4y']=1\n",
    "    data['education'][data['education']=='basic.6y']=2\n",
    "    data['education'][data['education']=='basic.9y']=3\n",
    "    data['education'][data['education']=='high.school']=4\n",
    "    data['education'][data['education']=='university.degree']=5\n",
    "    data['education'][data['education']=='professional.course']=6\n",
    "    data['education']=data['education'].astype('int')\n",
    "    return data"
   ]
  },
  {
   "cell_type": "code",
   "execution_count": 70,
   "metadata": {
    "collapsed": true
   },
   "outputs": [],
   "source": [
    "X_train = encode_edu(X_train)\n",
    "X_validation = encode_edu(X_validation)\n",
    "X_test = encode_edu(X_test)"
   ]
  },
  {
   "cell_type": "code",
   "execution_count": 71,
   "metadata": {},
   "outputs": [
    {
     "name": "stdout",
     "output_type": "stream",
     "text": [
      "['contact' 'day_of_week' 'default' 'housing' 'job' 'loan' 'marital' 'month'\n",
      " 'poutcome']\n"
     ]
    }
   ],
   "source": [
    "def cat_variables(df):\n",
    "    numeric_list = list(df._get_numeric_data().columns)\n",
    "    non_numeric = np.setdiff1d(df.columns.values, numeric_list)\n",
    "    return non_numeric\n",
    "def num_variables(df):\n",
    "    return list(df._get_numeric_data().columns)\n",
    "cat = cat_variables(X_train)\n",
    "num = num_variables(X_train)\n",
    "print cat"
   ]
  },
  {
   "cell_type": "code",
   "execution_count": 72,
   "metadata": {},
   "outputs": [
    {
     "name": "stdout",
     "output_type": "stream",
     "text": [
      "contact\n",
      "cellular     20332\n",
      "telephone    11940\n",
      "Name: contact, dtype: int64\n",
      "day_of_week\n",
      "thu    6758\n",
      "mon    6685\n",
      "wed    6440\n",
      "tue    6266\n",
      "fri    6123\n",
      "Name: day_of_week, dtype: int64\n",
      "default\n",
      "no         25492\n",
      "unknown     6778\n",
      "yes            2\n",
      "Name: default, dtype: int64\n",
      "housing\n",
      "yes    17657\n",
      "no     14615\n",
      "Name: housing, dtype: int64\n",
      "job\n",
      "admin.           8595\n",
      "blue-collar      7371\n",
      "technician       5396\n",
      "services         3177\n",
      "management       2280\n",
      "entrepreneur     1156\n",
      "self-employed    1132\n",
      "retired           844\n",
      "housemaid         822\n",
      "unemployed        800\n",
      "student           699\n",
      "Name: job, dtype: int64\n",
      "loan\n",
      "no     27398\n",
      "yes     4874\n",
      "Name: loan, dtype: int64\n",
      "marital\n",
      "married     19455\n",
      "single       9266\n",
      "divorced     3551\n",
      "Name: marital, dtype: int64\n",
      "month\n",
      "may    10914\n",
      "jul     5762\n",
      "aug     4806\n",
      "jun     4229\n",
      "nov     3208\n",
      "apr     1995\n",
      "oct      477\n",
      "sep      388\n",
      "mar      380\n",
      "dec      113\n",
      "Name: month, dtype: int64\n",
      "poutcome\n",
      "nonexistent    28098\n",
      "failure         3205\n",
      "success          969\n",
      "Name: poutcome, dtype: int64\n"
     ]
    }
   ],
   "source": [
    "for val in cat:\n",
    "    print val\n",
    "    print X_train[val].value_counts()"
   ]
  },
  {
   "cell_type": "code",
   "execution_count": 73,
   "metadata": {
    "collapsed": true
   },
   "outputs": [],
   "source": [
    "def encodedef(data):\n",
    "    data['default'][data['default']=='yes']=0\n",
    "    data['default'][data['default']=='no']=1\n",
    "    data['default'][data['default']=='unknown']=2\n",
    "    data['default']=data['default'].astype('int')\n",
    "    return data"
   ]
  },
  {
   "cell_type": "code",
   "execution_count": 74,
   "metadata": {
    "collapsed": true
   },
   "outputs": [],
   "source": [
    "X_train = encodedef(X_train)\n",
    "X_validation = encodedef(X_validation)\n",
    "X_test = encodedef(X_test)"
   ]
  },
  {
   "cell_type": "code",
   "execution_count": 75,
   "metadata": {
    "collapsed": true
   },
   "outputs": [],
   "source": [
    "def encodehous(data):\n",
    "    data['housing'][data['housing']=='yes']=0\n",
    "    data['housing'][data['housing']=='no']=1\n",
    "    data['housing']=data['housing'].astype('int')\n",
    "    return data"
   ]
  },
  {
   "cell_type": "code",
   "execution_count": 76,
   "metadata": {
    "collapsed": true
   },
   "outputs": [],
   "source": [
    "X_train = encodehous(X_train)\n",
    "X_validation = encodehous(X_validation)\n",
    "X_test = encodehous(X_test)"
   ]
  },
  {
   "cell_type": "code",
   "execution_count": 77,
   "metadata": {
    "collapsed": true
   },
   "outputs": [],
   "source": [
    "def encodeloan(data):\n",
    "    data['loan'][data['loan']=='yes']=0\n",
    "    data['loan'][data['loan']=='no']=1\n",
    "    data['loan']=data['loan'].astype('int')    \n",
    "    return data"
   ]
  },
  {
   "cell_type": "code",
   "execution_count": 78,
   "metadata": {
    "collapsed": true
   },
   "outputs": [],
   "source": [
    "X_train = encodeloan(X_train)\n",
    "X_validation = encodeloan(X_validation)\n",
    "X_test = encodeloan(X_test)"
   ]
  },
  {
   "cell_type": "code",
   "execution_count": 79,
   "metadata": {
    "collapsed": true
   },
   "outputs": [],
   "source": [
    "def encodecontact(data):\n",
    "    data['contact'][data['contact']=='cellular']=0\n",
    "    data['contact'][data['contact']=='telephone']=1\n",
    "    data['contact']=data['contact'].astype('int')\n",
    "    return data"
   ]
  },
  {
   "cell_type": "code",
   "execution_count": 80,
   "metadata": {
    "collapsed": true
   },
   "outputs": [],
   "source": [
    "X_train = encodecontact(X_train)\n",
    "X_validation = encodecontact(X_validation)\n",
    "X_test = encodecontact(X_test)"
   ]
  },
  {
   "cell_type": "code",
   "execution_count": 81,
   "metadata": {
    "collapsed": true
   },
   "outputs": [],
   "source": [
    "# day_of_week\n",
    "def encodeday(data):\n",
    "    data['day_of_week'][data['day_of_week']=='mon']=0\n",
    "    data['day_of_week'][data['day_of_week']=='tue']=1\n",
    "    data['day_of_week'][data['day_of_week']=='wed']=2\n",
    "    data['day_of_week'][data['day_of_week']=='thu']=3\n",
    "    data['day_of_week'][data['day_of_week']=='fri']=4\n",
    "    data['day_of_week']=data['day_of_week'].astype('int')\n",
    "    return data"
   ]
  },
  {
   "cell_type": "code",
   "execution_count": 82,
   "metadata": {
    "collapsed": true
   },
   "outputs": [],
   "source": [
    "X_train = encodeday(X_train)\n",
    "X_validation = encodeday(X_validation)\n",
    "X_test = encodeday(X_test)"
   ]
  },
  {
   "cell_type": "code",
   "execution_count": 83,
   "metadata": {
    "collapsed": true
   },
   "outputs": [],
   "source": [
    "def encodemarital(data):\n",
    "    data['marital'][data['marital']=='single']=0\n",
    "    data['marital'][data['marital']=='married']=1\n",
    "    data['marital'][data['marital']=='divorced']=2\n",
    "    data['marital']=data['marital'].astype('int')\n",
    "    return data"
   ]
  },
  {
   "cell_type": "code",
   "execution_count": 84,
   "metadata": {
    "collapsed": true
   },
   "outputs": [],
   "source": [
    "X_train = encodemarital(X_train)\n",
    "X_validation = encodemarital(X_validation)\n",
    "X_test = encodemarital(X_test)"
   ]
  },
  {
   "cell_type": "code",
   "execution_count": 85,
   "metadata": {
    "collapsed": true
   },
   "outputs": [],
   "source": [
    "# poutcome\n",
    "# nonexistent    28481\n",
    "# failure         3369\n",
    "# success         1100\n",
    "def encodepoutcome(data):\n",
    "    data['poutcome'][data['poutcome']=='nonexistent']=0\n",
    "    data['poutcome'][data['poutcome']=='failure']=1\n",
    "    data['poutcome'][data['poutcome']=='success']=2\n",
    "    data['poutcome']=data['poutcome'].astype('int')\n",
    "    return data\n",
    "X_train = encodepoutcome(X_train)\n",
    "X_validation = encodepoutcome(X_validation)\n",
    "X_test = encodepoutcome(X_test)"
   ]
  },
  {
   "cell_type": "code",
   "execution_count": 86,
   "metadata": {
    "collapsed": true
   },
   "outputs": [],
   "source": [
    "def encodemonth(data):\n",
    "    data['month'][data['month']=='jan']=1\n",
    "    data['month'][data['month']=='feb']=2\n",
    "    data['month'][data['month']=='mar']=3\n",
    "    data['month'][data['month']=='apr']=4\n",
    "    data['month'][data['month']=='may']=5\n",
    "    data['month'][data['month']=='jun']=6\n",
    "    data['month'][data['month']=='jul']=7\n",
    "    data['month'][data['month']=='aug']=8\n",
    "    data['month'][data['month']=='sep']=9\n",
    "    data['month'][data['month']=='oct']=10\n",
    "    data['month'][data['month']=='nov']=11\n",
    "    data['month'][data['month']=='dec']=12\n",
    "    data['month']=data['month'].astype('int')\n",
    "    return data\n",
    "X_train = encodemonth(X_train)\n",
    "X_validation = encodemonth(X_validation)\n",
    "X_test = encodemonth(X_test)"
   ]
  },
  {
   "cell_type": "code",
   "execution_count": 87,
   "metadata": {
    "collapsed": true
   },
   "outputs": [],
   "source": [
    "# ob\n",
    "# admin.           8636\n",
    "# blue-collar      7381\n",
    "# technician       5419\n",
    "# services         3177\n",
    "# management       2297\n",
    "# retired          1368\n",
    "# entrepreneur     1162\n",
    "# self-employed    1137\n",
    "# housemaid         870\n",
    "# unemployed        804\n",
    "# student           699\n",
    "def encodejob(data):\n",
    "    data['job'][data['job']=='admin.']=1\n",
    "    data['job'][data['job']=='blue-collar']=2\n",
    "    data['job'][data['job']=='technician']=3\n",
    "    data['job'][data['job']=='services']=4\n",
    "    data['job'][data['job']=='management']=5\n",
    "    data['job'][data['job']=='retired']=6\n",
    "    data['job'][data['job']=='entrepreneur']=7\n",
    "    data['job'][data['job']=='self-employed']=8\n",
    "    data['job'][data['job']=='housemaid']=9\n",
    "    data['job'][data['job']=='unemployed']=10\n",
    "    data['job'][data['job']=='student']=11\n",
    "    data['job']=data['job'].astype('int')\n",
    "    return data\n",
    "X_train = encodejob(X_train)\n",
    "X_validation = encodejob(X_validation)\n",
    "X_test = encodejob(X_test)"
   ]
  },
  {
   "cell_type": "code",
   "execution_count": null,
   "metadata": {
    "collapsed": true
   },
   "outputs": [],
   "source": []
  },
  {
   "cell_type": "markdown",
   "metadata": {},
   "source": [
    "# Dealing with outliers\n"
   ]
  },
  {
   "cell_type": "code",
   "execution_count": 38,
   "metadata": {},
   "outputs": [
    {
     "data": {
      "text/html": [
       "<div>\n",
       "<style>\n",
       "    .dataframe thead tr:only-child th {\n",
       "        text-align: right;\n",
       "    }\n",
       "\n",
       "    .dataframe thead th {\n",
       "        text-align: left;\n",
       "    }\n",
       "\n",
       "    .dataframe tbody tr th {\n",
       "        vertical-align: top;\n",
       "    }\n",
       "</style>\n",
       "<table border=\"1\" class=\"dataframe\">\n",
       "  <thead>\n",
       "    <tr style=\"text-align: right;\">\n",
       "      <th></th>\n",
       "      <th>age</th>\n",
       "      <th>job</th>\n",
       "      <th>marital</th>\n",
       "      <th>education</th>\n",
       "      <th>default</th>\n",
       "      <th>housing</th>\n",
       "      <th>loan</th>\n",
       "      <th>contact</th>\n",
       "      <th>month</th>\n",
       "      <th>day_of_week</th>\n",
       "      <th>duration</th>\n",
       "      <th>campaign</th>\n",
       "      <th>pdays</th>\n",
       "      <th>previous</th>\n",
       "      <th>poutcome</th>\n",
       "      <th>emp.var.rate</th>\n",
       "      <th>cons.price.idx</th>\n",
       "      <th>cons.conf.idx</th>\n",
       "      <th>euribor3m</th>\n",
       "      <th>nr.employed</th>\n",
       "    </tr>\n",
       "  </thead>\n",
       "  <tbody>\n",
       "    <tr>\n",
       "      <th>count</th>\n",
       "      <td>32272.000000</td>\n",
       "      <td>32272.000000</td>\n",
       "      <td>32272.000000</td>\n",
       "      <td>32272.000000</td>\n",
       "      <td>32272.000000</td>\n",
       "      <td>32272.000000</td>\n",
       "      <td>32272.000000</td>\n",
       "      <td>32272.000000</td>\n",
       "      <td>32272.000000</td>\n",
       "      <td>32272.000000</td>\n",
       "      <td>32272.000000</td>\n",
       "      <td>32272.000000</td>\n",
       "      <td>32272.000000</td>\n",
       "      <td>32272.000000</td>\n",
       "      <td>32272.000000</td>\n",
       "      <td>32272.000000</td>\n",
       "      <td>32272.000000</td>\n",
       "      <td>32272.000000</td>\n",
       "      <td>32272.000000</td>\n",
       "      <td>32272.000000</td>\n",
       "    </tr>\n",
       "    <tr>\n",
       "      <th>mean</th>\n",
       "      <td>39.302336</td>\n",
       "      <td>3.375434</td>\n",
       "      <td>0.822912</td>\n",
       "      <td>4.049300</td>\n",
       "      <td>1.209965</td>\n",
       "      <td>0.452869</td>\n",
       "      <td>0.848971</td>\n",
       "      <td>0.369980</td>\n",
       "      <td>6.592464</td>\n",
       "      <td>1.980416</td>\n",
       "      <td>257.207053</td>\n",
       "      <td>2.575483</td>\n",
       "      <td>966.017105</td>\n",
       "      <td>0.161316</td>\n",
       "      <td>0.159364</td>\n",
       "      <td>0.134531</td>\n",
       "      <td>93.586638</td>\n",
       "      <td>1667.826341</td>\n",
       "      <td>3.678972</td>\n",
       "      <td>5169.867030</td>\n",
       "    </tr>\n",
       "    <tr>\n",
       "      <th>std</th>\n",
       "      <td>9.408151</td>\n",
       "      <td>2.595630</td>\n",
       "      <td>0.604819</td>\n",
       "      <td>1.439865</td>\n",
       "      <td>0.407442</td>\n",
       "      <td>0.497781</td>\n",
       "      <td>0.358082</td>\n",
       "      <td>0.482806</td>\n",
       "      <td>2.017586</td>\n",
       "      <td>1.410941</td>\n",
       "      <td>259.548926</td>\n",
       "      <td>2.769765</td>\n",
       "      <td>177.942147</td>\n",
       "      <td>0.474316</td>\n",
       "      <td>0.440483</td>\n",
       "      <td>1.542662</td>\n",
       "      <td>0.569637</td>\n",
       "      <td>361.797655</td>\n",
       "      <td>1.706904</td>\n",
       "      <td>70.153138</td>\n",
       "    </tr>\n",
       "    <tr>\n",
       "      <th>min</th>\n",
       "      <td>17.000000</td>\n",
       "      <td>1.000000</td>\n",
       "      <td>0.000000</td>\n",
       "      <td>0.000000</td>\n",
       "      <td>0.000000</td>\n",
       "      <td>0.000000</td>\n",
       "      <td>0.000000</td>\n",
       "      <td>0.000000</td>\n",
       "      <td>3.000000</td>\n",
       "      <td>0.000000</td>\n",
       "      <td>0.000000</td>\n",
       "      <td>1.000000</td>\n",
       "      <td>0.000000</td>\n",
       "      <td>0.000000</td>\n",
       "      <td>0.000000</td>\n",
       "      <td>-3.400000</td>\n",
       "      <td>92.201000</td>\n",
       "      <td>723.610000</td>\n",
       "      <td>0.634000</td>\n",
       "      <td>4963.600000</td>\n",
       "    </tr>\n",
       "    <tr>\n",
       "      <th>25%</th>\n",
       "      <td>32.000000</td>\n",
       "      <td>1.000000</td>\n",
       "      <td>0.000000</td>\n",
       "      <td>3.000000</td>\n",
       "      <td>1.000000</td>\n",
       "      <td>0.000000</td>\n",
       "      <td>1.000000</td>\n",
       "      <td>0.000000</td>\n",
       "      <td>5.000000</td>\n",
       "      <td>1.000000</td>\n",
       "      <td>102.000000</td>\n",
       "      <td>1.000000</td>\n",
       "      <td>999.000000</td>\n",
       "      <td>0.000000</td>\n",
       "      <td>0.000000</td>\n",
       "      <td>-1.800000</td>\n",
       "      <td>93.075000</td>\n",
       "      <td>1324.960000</td>\n",
       "      <td>1.365000</td>\n",
       "      <td>5099.100000</td>\n",
       "    </tr>\n",
       "    <tr>\n",
       "      <th>50%</th>\n",
       "      <td>38.000000</td>\n",
       "      <td>3.000000</td>\n",
       "      <td>1.000000</td>\n",
       "      <td>4.000000</td>\n",
       "      <td>1.000000</td>\n",
       "      <td>0.000000</td>\n",
       "      <td>1.000000</td>\n",
       "      <td>0.000000</td>\n",
       "      <td>6.000000</td>\n",
       "      <td>2.000000</td>\n",
       "      <td>178.000000</td>\n",
       "      <td>2.000000</td>\n",
       "      <td>999.000000</td>\n",
       "      <td>0.000000</td>\n",
       "      <td>0.000000</td>\n",
       "      <td>1.100000</td>\n",
       "      <td>93.876000</td>\n",
       "      <td>1747.240000</td>\n",
       "      <td>4.857000</td>\n",
       "      <td>5191.000000</td>\n",
       "    </tr>\n",
       "    <tr>\n",
       "      <th>75%</th>\n",
       "      <td>46.000000</td>\n",
       "      <td>4.000000</td>\n",
       "      <td>1.000000</td>\n",
       "      <td>5.000000</td>\n",
       "      <td>1.000000</td>\n",
       "      <td>1.000000</td>\n",
       "      <td>1.000000</td>\n",
       "      <td>1.000000</td>\n",
       "      <td>8.000000</td>\n",
       "      <td>3.000000</td>\n",
       "      <td>318.000000</td>\n",
       "      <td>3.000000</td>\n",
       "      <td>999.000000</td>\n",
       "      <td>0.000000</td>\n",
       "      <td>0.000000</td>\n",
       "      <td>1.400000</td>\n",
       "      <td>93.994000</td>\n",
       "      <td>1823.290000</td>\n",
       "      <td>4.961000</td>\n",
       "      <td>5228.100000</td>\n",
       "    </tr>\n",
       "    <tr>\n",
       "      <th>max</th>\n",
       "      <td>61.000000</td>\n",
       "      <td>11.000000</td>\n",
       "      <td>2.000000</td>\n",
       "      <td>6.000000</td>\n",
       "      <td>2.000000</td>\n",
       "      <td>1.000000</td>\n",
       "      <td>1.000000</td>\n",
       "      <td>1.000000</td>\n",
       "      <td>12.000000</td>\n",
       "      <td>4.000000</td>\n",
       "      <td>4918.000000</td>\n",
       "      <td>56.000000</td>\n",
       "      <td>999.000000</td>\n",
       "      <td>7.000000</td>\n",
       "      <td>2.000000</td>\n",
       "      <td>1.400000</td>\n",
       "      <td>94.767000</td>\n",
       "      <td>2580.640000</td>\n",
       "      <td>5.045000</td>\n",
       "      <td>5228.100000</td>\n",
       "    </tr>\n",
       "  </tbody>\n",
       "</table>\n",
       "</div>"
      ],
      "text/plain": [
       "                age           job       marital     education       default  \\\n",
       "count  32272.000000  32272.000000  32272.000000  32272.000000  32272.000000   \n",
       "mean      39.302336      3.375434      0.822912      4.049300      1.209965   \n",
       "std        9.408151      2.595630      0.604819      1.439865      0.407442   \n",
       "min       17.000000      1.000000      0.000000      0.000000      0.000000   \n",
       "25%       32.000000      1.000000      0.000000      3.000000      1.000000   \n",
       "50%       38.000000      3.000000      1.000000      4.000000      1.000000   \n",
       "75%       46.000000      4.000000      1.000000      5.000000      1.000000   \n",
       "max       61.000000     11.000000      2.000000      6.000000      2.000000   \n",
       "\n",
       "            housing          loan       contact         month   day_of_week  \\\n",
       "count  32272.000000  32272.000000  32272.000000  32272.000000  32272.000000   \n",
       "mean       0.452869      0.848971      0.369980      6.592464      1.980416   \n",
       "std        0.497781      0.358082      0.482806      2.017586      1.410941   \n",
       "min        0.000000      0.000000      0.000000      3.000000      0.000000   \n",
       "25%        0.000000      1.000000      0.000000      5.000000      1.000000   \n",
       "50%        0.000000      1.000000      0.000000      6.000000      2.000000   \n",
       "75%        1.000000      1.000000      1.000000      8.000000      3.000000   \n",
       "max        1.000000      1.000000      1.000000     12.000000      4.000000   \n",
       "\n",
       "           duration      campaign         pdays      previous      poutcome  \\\n",
       "count  32272.000000  32272.000000  32272.000000  32272.000000  32272.000000   \n",
       "mean     257.207053      2.575483    966.017105      0.161316      0.159364   \n",
       "std      259.548926      2.769765    177.942147      0.474316      0.440483   \n",
       "min        0.000000      1.000000      0.000000      0.000000      0.000000   \n",
       "25%      102.000000      1.000000    999.000000      0.000000      0.000000   \n",
       "50%      178.000000      2.000000    999.000000      0.000000      0.000000   \n",
       "75%      318.000000      3.000000    999.000000      0.000000      0.000000   \n",
       "max     4918.000000     56.000000    999.000000      7.000000      2.000000   \n",
       "\n",
       "       emp.var.rate  cons.price.idx  cons.conf.idx     euribor3m   nr.employed  \n",
       "count  32272.000000    32272.000000   32272.000000  32272.000000  32272.000000  \n",
       "mean       0.134531       93.586638    1667.826341      3.678972   5169.867030  \n",
       "std        1.542662        0.569637     361.797655      1.706904     70.153138  \n",
       "min       -3.400000       92.201000     723.610000      0.634000   4963.600000  \n",
       "25%       -1.800000       93.075000    1324.960000      1.365000   5099.100000  \n",
       "50%        1.100000       93.876000    1747.240000      4.857000   5191.000000  \n",
       "75%        1.400000       93.994000    1823.290000      4.961000   5228.100000  \n",
       "max        1.400000       94.767000    2580.640000      5.045000   5228.100000  "
      ]
     },
     "execution_count": 38,
     "metadata": {},
     "output_type": "execute_result"
    }
   ],
   "source": [
    "# X_train.corr()\n",
    "X_train.describe()"
   ]
  },
  {
   "cell_type": "code",
   "execution_count": 39,
   "metadata": {},
   "outputs": [
    {
     "data": {
      "image/png": "[encoded data removed]",
      "text/plain": [
       "<matplotlib.figure.Figure at 0x7f21f86d1b50>"
      ]
     },
     "metadata": {},
     "output_type": "display_data"
    },
    {
     "data": {
      "image/png": "[encoded data removed]",
      "text/plain": [
       "<matplotlib.figure.Figure at 0x7f21f805a190>"
      ]
     },
     "metadata": {},
     "output_type": "display_data"
    },
    {
     "data": {
      "image/png": "[encoded data removed]",
      "text/plain": [
       "<matplotlib.figure.Figure at 0x7f21e84aa1d0>"
      ]
     },
     "metadata": {},
     "output_type": "display_data"
    },
    {
     "data": {
      "image/png": "[encoded data removed]",
      "text/plain": [
       "<matplotlib.figure.Figure at 0x7f21e8364d90>"
      ]
     },
     "metadata": {},
     "output_type": "display_data"
    },
    {
     "data": {
      "image/png": "[encoded data removed]",
      "text/plain": [
       "<matplotlib.figure.Figure at 0x7f21e8256dd0>"
      ]
     },
     "metadata": {},
     "output_type": "display_data"
    },
    {
     "data": {
      "image/png": "[encoded data removed]",
      "text/plain": [
       "<matplotlib.figure.Figure at 0x7f21e81b8f10>"
      ]
     },
     "metadata": {},
     "output_type": "display_data"
    }
   ],
   "source": [
    "for i in range(0,len(num),2):\n",
    "\tif len(num)>i+1:\n",
    "\t\tplt.subplot(121)\n",
    "\t\tsns.boxplot(None, num[i],data = X_train)\n",
    "\t\tplt.subplot(122)\n",
    "\t\tsns.boxplot(None, num[i+1],data = X_train)\n",
    "\t\tplt.tight_layout()\n",
    "\telse:\n",
    "\t\tsns.boxplot(None, num[i],data = X_train)\n",
    "\tplt.show()"
   ]
  },
  {
   "cell_type": "code",
   "execution_count": 40,
   "metadata": {},
   "outputs": [
    {
     "data": {
      "text/plain": [
       "14.0"
      ]
     },
     "execution_count": 40,
     "metadata": {},
     "output_type": "execute_result"
    }
   ],
   "source": [
    "Q1,Q3 = X_train.age.quantile([0.25,0.75])\n",
    "Q1,Q3\n",
    "IQR = Q3-Q1\n",
    "IQR"
   ]
  },
  {
   "cell_type": "code",
   "execution_count": 41,
   "metadata": {},
   "outputs": [
    {
     "data": {
      "text/plain": [
       "14.0"
      ]
     },
     "execution_count": 41,
     "metadata": {},
     "output_type": "execute_result"
    }
   ],
   "source": [
    "IQR = Q3-Q1\n",
    "IQR"
   ]
  },
  {
   "cell_type": "code",
   "execution_count": 42,
   "metadata": {
    "collapsed": true
   },
   "outputs": [],
   "source": [
    "# X_train['age'][X_train['age']<min] = mean\n",
    "# X_train['age'][X_train['age']>max] = mean\n",
    "# X_validation['age'][X_validation['age']<min] = mean\n",
    "# X_validation['age'][X_validation['age']>max] = mean\n",
    "# X_test['age'][X_test['age']<min] = mean\n",
    "# X_test['age'][X_test['age']>max] = mean"
   ]
  },
  {
   "cell_type": "code",
   "execution_count": 88,
   "metadata": {
    "collapsed": true
   },
   "outputs": [],
   "source": [
    "Q1,Q3 = X_train.campaign.quantile([0.25,0.75])\n",
    "Q1,Q3\n",
    "IQR = Q3-Q1\n",
    "IQR\n",
    "median = X_train.campaign.median()\n",
    "mean = X_train.campaign.mean()\n",
    "min = round(mean - (1.5*IQR))\n",
    "max = round(mean + (1.5*IQR))\n",
    "min,max,mean,median\n",
    "# # X_train['campaign'][X_train['campaign']<min] = mean\n",
    "X_train['campaign'][X_train['campaign']>max] = mean"
   ]
  },
  {
   "cell_type": "code",
   "execution_count": 89,
   "metadata": {},
   "outputs": [
    {
     "data": {
      "text/plain": [
       "(0.0, 0.0, 0.16131631135349528, 0.0)"
      ]
     },
     "execution_count": 89,
     "metadata": {},
     "output_type": "execute_result"
    }
   ],
   "source": [
    "Q1,Q3 = X_train.previous.quantile([0.25,0.75])\n",
    "Q1,Q3\n",
    "IQR = Q3-Q1\n",
    "IQR\n",
    "median = X_train.previous.median()\n",
    "mean = X_train.previous.mean()\n",
    "min = round(mean - (1.5*IQR))\n",
    "max = round(mean + (1.5*IQR))\n",
    "min,max,mean,median\n",
    "# X_train['campaign'][X_train['campaign']<min] = mean\n",
    "# X_train['previous'][X_train['previous']>max] = mean"
   ]
  },
  {
   "cell_type": "code",
   "execution_count": 90,
   "metadata": {
    "collapsed": true
   },
   "outputs": [],
   "source": [
    "Q1,Q3 = X_train['cons.conf.idx'].quantile([0.25,0.75])\n",
    "Q1,Q3\n",
    "IQR = Q3-Q1\n",
    "IQR\n",
    "median = X_train['cons.conf.idx'].median()\n",
    "mean = X_train['cons.conf.idx'].mean()\n",
    "min = round(mean - (1.5*IQR))\n",
    "max = round(mean + (1.5*IQR))\n",
    "min,max,mean,median\n",
    "X_train['cons.conf.idx'][X_train['cons.conf.idx']<min] = mean\n",
    "X_train['cons.conf.idx'][X_train['cons.conf.idx']>max] = mean"
   ]
  },
  {
   "cell_type": "markdown",
   "metadata": {},
   "source": [
    "# Feature selection"
   ]
  },
  {
   "cell_type": "code",
   "execution_count": 91,
   "metadata": {
    "collapsed": true
   },
   "outputs": [],
   "source": [
    "def algo_performace(y_test,y_pred):   \n",
    "    print \"Confusion Matrix :\"\n",
    "    print confusion_matrix(y_test,y_pred)\n",
    "    print \"\\nF1 Score :\"\n",
    "    print f1_score(y_test,y_pred)\n",
    "    fpr, tpr, thresholds = roc_curve(y_test, y_pred, pos_label=1)\n",
    "    print \"\\nArea Under Curve : \"\n",
    "    print auc(fpr,tpr)\n",
    "    print \"\\nprecision score : \"\n",
    "    print precision_score(y_test, y_pred)\n",
    "    print \"\\nrecall score : \"\n",
    "    print recall_score(y_test, y_pred)\n",
    "    print \"\\nROC : \"\n",
    "    plt.plot(fpr,tpr)\n",
    "    plt.show()\n",
    "    return tpr,fpr"
   ]
  },
  {
   "cell_type": "code",
   "execution_count": 47,
   "metadata": {
    "scrolled": true
   },
   "outputs": [
    {
     "data": {
      "text/html": [
       "<div>\n",
       "<style>\n",
       "    .dataframe thead tr:only-child th {\n",
       "        text-align: right;\n",
       "    }\n",
       "\n",
       "    .dataframe thead th {\n",
       "        text-align: left;\n",
       "    }\n",
       "\n",
       "    .dataframe tbody tr th {\n",
       "        vertical-align: top;\n",
       "    }\n",
       "</style>\n",
       "<table border=\"1\" class=\"dataframe\">\n",
       "  <thead>\n",
       "    <tr style=\"text-align: right;\">\n",
       "      <th></th>\n",
       "      <th>age</th>\n",
       "      <th>job</th>\n",
       "      <th>marital</th>\n",
       "      <th>education</th>\n",
       "      <th>default</th>\n",
       "      <th>housing</th>\n",
       "      <th>loan</th>\n",
       "      <th>contact</th>\n",
       "      <th>month</th>\n",
       "      <th>day_of_week</th>\n",
       "      <th>duration</th>\n",
       "      <th>campaign</th>\n",
       "      <th>pdays</th>\n",
       "      <th>previous</th>\n",
       "      <th>poutcome</th>\n",
       "      <th>emp.var.rate</th>\n",
       "      <th>cons.price.idx</th>\n",
       "      <th>cons.conf.idx</th>\n",
       "      <th>euribor3m</th>\n",
       "      <th>nr.employed</th>\n",
       "    </tr>\n",
       "  </thead>\n",
       "  <tbody>\n",
       "    <tr>\n",
       "      <th>29321</th>\n",
       "      <td>40</td>\n",
       "      <td>4</td>\n",
       "      <td>2</td>\n",
       "      <td>4</td>\n",
       "      <td>1</td>\n",
       "      <td>0</td>\n",
       "      <td>1</td>\n",
       "      <td>1</td>\n",
       "      <td>4</td>\n",
       "      <td>4</td>\n",
       "      <td>501</td>\n",
       "      <td>3.0</td>\n",
       "      <td>999</td>\n",
       "      <td>0</td>\n",
       "      <td>0</td>\n",
       "      <td>-1.8</td>\n",
       "      <td>93.075</td>\n",
       "      <td>2218.410000</td>\n",
       "      <td>1.405</td>\n",
       "      <td>5099.1</td>\n",
       "    </tr>\n",
       "    <tr>\n",
       "      <th>23925</th>\n",
       "      <td>33</td>\n",
       "      <td>10</td>\n",
       "      <td>1</td>\n",
       "      <td>5</td>\n",
       "      <td>1</td>\n",
       "      <td>0</td>\n",
       "      <td>1</td>\n",
       "      <td>0</td>\n",
       "      <td>8</td>\n",
       "      <td>4</td>\n",
       "      <td>59</td>\n",
       "      <td>2.0</td>\n",
       "      <td>999</td>\n",
       "      <td>0</td>\n",
       "      <td>0</td>\n",
       "      <td>1.4</td>\n",
       "      <td>93.444</td>\n",
       "      <td>1303.210000</td>\n",
       "      <td>4.963</td>\n",
       "      <td>5228.1</td>\n",
       "    </tr>\n",
       "    <tr>\n",
       "      <th>39148</th>\n",
       "      <td>31</td>\n",
       "      <td>1</td>\n",
       "      <td>2</td>\n",
       "      <td>6</td>\n",
       "      <td>1</td>\n",
       "      <td>0</td>\n",
       "      <td>1</td>\n",
       "      <td>0</td>\n",
       "      <td>3</td>\n",
       "      <td>1</td>\n",
       "      <td>292</td>\n",
       "      <td>2.0</td>\n",
       "      <td>999</td>\n",
       "      <td>1</td>\n",
       "      <td>1</td>\n",
       "      <td>-1.8</td>\n",
       "      <td>93.369</td>\n",
       "      <td>1211.040000</td>\n",
       "      <td>0.655</td>\n",
       "      <td>5008.7</td>\n",
       "    </tr>\n",
       "    <tr>\n",
       "      <th>12078</th>\n",
       "      <td>29</td>\n",
       "      <td>2</td>\n",
       "      <td>0</td>\n",
       "      <td>3</td>\n",
       "      <td>1</td>\n",
       "      <td>0</td>\n",
       "      <td>1</td>\n",
       "      <td>1</td>\n",
       "      <td>6</td>\n",
       "      <td>4</td>\n",
       "      <td>76</td>\n",
       "      <td>1.0</td>\n",
       "      <td>999</td>\n",
       "      <td>0</td>\n",
       "      <td>0</td>\n",
       "      <td>1.4</td>\n",
       "      <td>94.465</td>\n",
       "      <td>1747.240000</td>\n",
       "      <td>4.947</td>\n",
       "      <td>5228.1</td>\n",
       "    </tr>\n",
       "    <tr>\n",
       "      <th>41021</th>\n",
       "      <td>29</td>\n",
       "      <td>10</td>\n",
       "      <td>0</td>\n",
       "      <td>4</td>\n",
       "      <td>1</td>\n",
       "      <td>0</td>\n",
       "      <td>1</td>\n",
       "      <td>0</td>\n",
       "      <td>10</td>\n",
       "      <td>4</td>\n",
       "      <td>168</td>\n",
       "      <td>2.0</td>\n",
       "      <td>999</td>\n",
       "      <td>0</td>\n",
       "      <td>0</td>\n",
       "      <td>-1.1</td>\n",
       "      <td>94.601</td>\n",
       "      <td>1667.826341</td>\n",
       "      <td>1.029</td>\n",
       "      <td>4963.6</td>\n",
       "    </tr>\n",
       "  </tbody>\n",
       "</table>\n",
       "</div>"
      ],
      "text/plain": [
       "       age  job  marital  education  default  housing  loan  contact  month  \\\n",
       "29321   40    4        2          4        1        0     1        1      4   \n",
       "23925   33   10        1          5        1        0     1        0      8   \n",
       "39148   31    1        2          6        1        0     1        0      3   \n",
       "12078   29    2        0          3        1        0     1        1      6   \n",
       "41021   29   10        0          4        1        0     1        0     10   \n",
       "\n",
       "       day_of_week  duration  campaign  pdays  previous  poutcome  \\\n",
       "29321            4       501       3.0    999         0         0   \n",
       "23925            4        59       2.0    999         0         0   \n",
       "39148            1       292       2.0    999         1         1   \n",
       "12078            4        76       1.0    999         0         0   \n",
       "41021            4       168       2.0    999         0         0   \n",
       "\n",
       "       emp.var.rate  cons.price.idx  cons.conf.idx  euribor3m  nr.employed  \n",
       "29321          -1.8          93.075    2218.410000      1.405       5099.1  \n",
       "23925           1.4          93.444    1303.210000      4.963       5228.1  \n",
       "39148          -1.8          93.369    1211.040000      0.655       5008.7  \n",
       "12078           1.4          94.465    1747.240000      4.947       5228.1  \n",
       "41021          -1.1          94.601    1667.826341      1.029       4963.6  "
      ]
     },
     "execution_count": 47,
     "metadata": {},
     "output_type": "execute_result"
    }
   ],
   "source": [
    "X_train.head()"
   ]
  },
  {
   "cell_type": "code",
   "execution_count": 48,
   "metadata": {
    "collapsed": true
   },
   "outputs": [],
   "source": [
    "# X_train=X_train.drop('duration',axis=1)\n",
    "# X_validation=X_validation.drop('duration',axis=1)\n",
    "# X_test=X_test.drop('duration',axis=1)"
   ]
  },
  {
   "cell_type": "code",
   "execution_count": 92,
   "metadata": {},
   "outputs": [
    {
     "name": "stdout",
     "output_type": "stream",
     "text": [
      "Feature importances for decision tree classifier = ['age' 'job' 'marital' 'education' 'month' 'day_of_week' 'duration'\n",
      " 'campaign' 'pdays' 'previous' 'poutcome' 'cons.price.idx' 'cons.conf.idx'\n",
      " 'euribor3m' 'nr.employed']\n",
      "Confusion Matrix :\n",
      "[[7057  262]\n",
      " [ 462  457]]\n",
      "\n",
      "F1 Score :\n",
      "0.557997557998\n",
      "\n",
      "Area Under Curve : \n",
      "0.730741205868\n",
      "\n",
      "precision score : \n",
      "0.635605006954\n",
      "\n",
      "recall score : \n",
      "0.497279651795\n",
      "\n",
      "ROC : \n"
     ]
    },
    {
     "data": {
      "image/png": "[encoded data removed]",
      "text/plain": [
       "<matplotlib.figure.Figure at 0x7f21e8104690>"
      ]
     },
     "metadata": {},
     "output_type": "display_data"
    }
   ],
   "source": [
    "model = RandomForestClassifier(random_state=9,criterion='entropy',max_features=15)\n",
    "model1 = DecisionTreeClassifier(max_depth=10)\n",
    "selector = RFE(estimator=model1, n_features_to_select=15)\n",
    "selector = selector.fit(X_train, y_train)\n",
    "model.fit(X_train, y_train)\n",
    "\n",
    "print(\"Feature importances for decision tree classifier = {}\".format(X_validation.columns.values[selector.support_]))\n",
    "y_pred = model.predict(X_validation)\n",
    "tpr,fpr = algo_performace(y_validation,y_pred)\n"
   ]
  },
  {
   "cell_type": "code",
   "execution_count": 93,
   "metadata": {},
   "outputs": [
    {
     "name": "stdout",
     "output_type": "stream",
     "text": [
      "[ 0.08181898  0.04177923  0.01591983  0.03303895  0.00708145  0.01322974\n",
      "  0.01019818  0.00761942  0.03390293  0.03094218  0.35321376  0.03368108\n",
      "  0.01622599  0.00862625  0.00867927  0.0271241   0.0178613   0.01952046\n",
      "  0.09221014  0.14732677]\n",
      "1\n",
      "20\n"
     ]
    }
   ],
   "source": [
    "print model.feature_importances_\n",
    "print model.n_outputs_\n",
    "print model.n_features_"
   ]
  },
  {
   "cell_type": "code",
   "execution_count": 94,
   "metadata": {
    "collapsed": true
   },
   "outputs": [],
   "source": [
    "X_final = X_train.iloc[:,model.feature_importances_.argsort()[::-1][:10]]\n",
    "X_validation_final = X_validation.iloc[:,model.feature_importances_.argsort()[::-1][:10]]\n"
   ]
  },
  {
   "cell_type": "code",
   "execution_count": 52,
   "metadata": {},
   "outputs": [
    {
     "data": {
      "text/plain": [
       "Index([u'age', u'job', u'marital', u'education', u'default', u'housing',\n",
       "       u'loan', u'contact', u'month', u'day_of_week', u'duration', u'campaign',\n",
       "       u'pdays', u'previous', u'poutcome', u'emp.var.rate', u'cons.price.idx',\n",
       "       u'cons.conf.idx', u'euribor3m', u'nr.employed', u'y'],\n",
       "      dtype='object')"
      ]
     },
     "execution_count": 52,
     "metadata": {},
     "output_type": "execute_result"
    }
   ],
   "source": [
    "X_train1.corr()\n",
    "data.columns"
   ]
  },
  {
   "cell_type": "code",
   "execution_count": 95,
   "metadata": {},
   "outputs": [
    {
     "name": "stdout",
     "output_type": "stream",
     "text": [
      "Counter({0: 28855, 1: 28855})\n",
      "(57710, 10)\n"
     ]
    }
   ],
   "source": [
    "from collections import Counter\n",
    "sm = SMOTE(random_state = 3)\n",
    "X_res,y_res = sm.fit_sample(X_final,y_train)\n",
    "\n",
    "print Counter(y_res)\n",
    "print X_res.shape\n",
    "\n",
    "X_train = pd.DataFrame(X_res)\n",
    "y_train = pd.DataFrame(y_res)\n",
    "X_validation = X_validation_final"
   ]
  },
  {
   "cell_type": "code",
   "execution_count": 96,
   "metadata": {
    "scrolled": true
   },
   "outputs": [
    {
     "name": "stdout",
     "output_type": "stream",
     "text": [
      "Confusion Matrix :\n",
      "[[6030 1289]\n",
      " [ 116  803]]\n",
      "\n",
      "F1 Score :\n",
      "0.53337761541\n",
      "\n",
      "Area Under Curve : \n",
      "0.84882944372\n",
      "\n",
      "precision score : \n",
      "0.383843212237\n",
      "\n",
      "recall score : \n",
      "0.873775843308\n",
      "\n",
      "ROC : \n"
     ]
    },
    {
     "data": {
      "image/png": "[encoded data removed]",
      "text/plain": [
       "<matplotlib.figure.Figure at 0x7f21f86a0610>"
      ]
     },
     "metadata": {},
     "output_type": "display_data"
    }
   ],
   "source": [
    "LogR = LogisticRegression(penalty='l2',C=100)\n",
    "LogR.fit(X=X_train,y=y_train)\n",
    "y_LogR = LogR.predict(X_validation)\n",
    "fpr,tpr = algo_performace(y_validation,y_LogR)"
   ]
  },
  {
   "cell_type": "code",
   "execution_count": 97,
   "metadata": {
    "collapsed": true
   },
   "outputs": [],
   "source": [
    "# X_train[0]=X_train[0].astype('int')\n",
    "# X_train[4]=X_train[4].astype('int')\n",
    "# X_validation['age']=X_validation['age'].astype('int')\n",
    "# X_validation['campaign']=X_validation['campaign'].astype('int')"
   ]
  },
  {
   "cell_type": "code",
   "execution_count": 98,
   "metadata": {
    "collapsed": true
   },
   "outputs": [],
   "source": [
    "X_train1 = X_train.copy()\n",
    "\n",
    "X_train1[0] = pd.cut(X_train1[0], [0, 5, 10,15, 20, 25, 30, 35, 40, 45, 50, 55, 60, 65, 70, 75, 80, 85, 90, 95, 100], \n",
    "                               labels=['0', '1', '2', '3', '4', '5', \n",
    "                                       '6', '7', '8', '9', '10',\n",
    "                                      '11', '12', '13', '14', '15',\n",
    "                                      '16', '17', '18', ''])"
   ]
  },
  {
   "cell_type": "code",
   "execution_count": null,
   "metadata": {},
   "outputs": [],
   "source": [
    "X_train1[0]=X_train1[0].value_counts()"
   ]
  },
  {
   "cell_type": "code",
   "execution_count": null,
   "metadata": {
    "collapsed": true
   },
   "outputs": [],
   "source": [
    "X_validation1 = X_validation.copy()\n",
    "\n",
    "X_validation1['age'] = pd.cut(X_validation1['age'], [0, 5, 10,15, 20, 25, 30, 35, 40, 45, 50, 55, 60, 65, 70, 75, 80, 85, 90, 95, 100], \n",
    "                               labels=['0', '1', '2', '3', '4', '5', \n",
    "                                       '6', '7', '8', '9', '10',\n",
    "                                      '11', '12', '13', '14', '15',\n",
    "                                      '16', '17', '18', '19'])"
   ]
  },
  {
   "cell_type": "code",
   "execution_count": null,
   "metadata": {
    "collapsed": true
   },
   "outputs": [],
   "source": [
    "X_validation1['age']=X_validation1['age'].astype('int')"
   ]
  },
  {
   "cell_type": "code",
   "execution_count": null,
   "metadata": {
    "scrolled": true
   },
   "outputs": [],
   "source": [
    "LogR = LogisticRegression(penalty='l2',C=100)\n",
    "LogR.fit(X=X_train1,y=y_train)\n",
    "y_LogR = LogR.predict(X_validation1)\n",
    "fpr,tpr = algo_performace(y_validation,y_LogR)"
   ]
  },
  {
   "cell_type": "code",
   "execution_count": null,
   "metadata": {},
   "outputs": [],
   "source": [
    "LogR = RandomForestClassifier()\n",
    "LogR.fit(X=X_train2,y=y_train)\n",
    "y_LogR = LogR.predict(X_validation2)\n",
    "fpr,tpr = algo_performace(y_validation,y_LogR)"
   ]
  },
  {
   "cell_type": "code",
   "execution_count": null,
   "metadata": {
    "collapsed": true
   },
   "outputs": [],
   "source": [
    "X_train2 =X_train1.copy()\n",
    "X_train2[4] = pd.cut(X_train2[4], [0, 8, 16, 24, 80], \n",
    "                               labels=['0', '1', '2', '3'])\n",
    "X_train2"
   ]
  },
  {
   "cell_type": "code",
   "execution_count": null,
   "metadata": {
    "collapsed": true
   },
   "outputs": [],
   "source": [
    "X_validation2 =X_validation1.copy()\n",
    "X_validation2['campaign'] = pd.cut(X_validation2['campaign'], [0, 8, 16, 24, 80], \n",
    "                               labels=['0', '1', '2', '3']"
   ]
  },
  {
   "cell_type": "code",
   "execution_count": null,
   "metadata": {},
   "outputs": [],
   "source": [
    "LogR = LogisticRegression(penalty='l2',C=100)\n",
    "LogR.fit(X=X_train2,y=y_train)\n",
    "y_LogR = LogR.predict(X_validation2)\n",
    "fpr,tpr = algo_performace(y_validation,y_LogR)"
   ]
  },
  {
   "cell_type": "code",
   "execution_count": null,
   "metadata": {
    "collapsed": true
   },
   "outputs": [],
   "source": [
    "\n",
    "from sklearn import preprocessing\n",
    "min_max_scaler = preprocessing.MinMaxScaler()\n",
    "min_max_scaler.fit(X_train[2].reshape(-1,1))\n",
    "# X_train2[2] = min_max_scaler.fit_transform(X_train2[2].reshape(-1,1))\n",
    "X_validation2['euribor3m'] = min_max_scaler.transform(X_validation2['euribor3m'].reshape(-1,1))"
   ]
  },
  {
   "cell_type": "code",
   "execution_count": null,
   "metadata": {
    "collapsed": true
   },
   "outputs": [],
   "source": [
    "X_train3 = X_train2.drop(1,axis=1).copy()\n",
    "X_validation3 = X_validation2.drop('nr.employed',axis=1).copy()"
   ]
  },
  {
   "cell_type": "code",
   "execution_count": null,
   "metadata": {},
   "outputs": [],
   "source": [
    "LogR = LogisticRegression(penalty='l2',C=100)\n",
    "LogR.fit(X=X_train3,y=y_train)\n",
    "y_LogR = LogR.predict(X_validation3)\n",
    "fpr,tpr = algo_performace(y_validation,y_LogR)"
   ]
  },
  {
   "cell_type": "code",
   "execution_count": null,
   "metadata": {},
   "outputs": [],
   "source": [
    "from sklearn.model_selection import cross_val_predict\n",
    "y_probas_pred= cross_val_predict(LogR, X_train3, y_train, cv=10, method='predict_proba')\n",
    "print y_probas_pred\n",
    "\n",
    "\n",
    "y_scores_forest = y_probas_pred[:, 1]\n",
    "\n",
    "\n"
   ]
  },
  {
   "cell_type": "code",
   "execution_count": null,
   "metadata": {},
   "outputs": [],
   "source": [
    "fpr_forest, tpr_forest, threshold_forest = roc_curve(y_train, y_scores_forest)\n",
    "\n",
    "\n",
    "def plot_roc_curve(fpr, tpr, label=\"None\"):\n",
    "    plt.plot(fpr, tpr, linewidth=2, label=label)\n",
    "    plt.plot([0, 1], [1, 0], 'k--')\n",
    "    plt.axis([0, 1, 0, 1])\n",
    "    plt.xlabel(\"FPR\")\n",
    "    plt.ylabel(\"TPR\")\n",
    "\n",
    "\n",
    "\n",
    "#plt.plot(tpr_forest, fpr_forest,label=\"Random Forest\")\n",
    "plot_roc_curve(fpr_forest, tpr_forest, \"Random Forest\")\n",
    "plt.legend(loc=\"lower right\")\\\n"
   ]
  },
  {
   "cell_type": "code",
   "execution_count": null,
   "metadata": {},
   "outputs": [],
   "source": [
    "plt.show()"
   ]
  },
  {
   "cell_type": "code",
   "execution_count": null,
   "metadata": {},
   "outputs": [],
   "source": [
    "param_grid = {'C': [0.001, 0.01, 0.1, 1, 10, 100, 1000],'penalty':'l2' }\n",
    "clf = GridSearchCV(LogR, param_grid)\n",
    "clf"
   ]
  },
  {
   "cell_type": "code",
   "execution_count": null,
   "metadata": {
    "collapsed": true
   },
   "outputs": [],
   "source": []
  }
 ],
 "metadata": {
  "kernelspec": {
   "display_name": "Python 2",
   "language": "python",
   "name": "python2"
  },
  "language_info": {
   "codemirror_mode": {
    "name": "ipython",
    "version": 2
   },
   "file_extension": ".py",
   "mimetype": "text/x-python",
   "name": "python",
   "nbconvert_exporter": "python",
   "pygments_lexer": "ipython2",
   "version": "2.7.14"
  }
 },
 "nbformat": 4,
 "nbformat_minor": 2
}
